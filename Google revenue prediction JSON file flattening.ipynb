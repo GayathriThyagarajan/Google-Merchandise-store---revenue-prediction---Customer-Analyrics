{
 "cells": [
  {
   "cell_type": "code",
   "execution_count": null,
   "metadata": {},
   "outputs": [],
   "source": [
    "def load_df(path, nrows = None):\n",
    "    columns = [\"channelGrouping\",\"date\",\"device\",\"fullVisitorId\",\"geoNetwork\",\"sessionId\",\"socialEngagementType\",\"totals\",\"trafficSource\",\"visitId\",\"visitNumber\",\"visitStartTime\"]\n",
    "    json_columns = [\"device\",\"geoNetwork\",\"totals\",\"trafficSource\"]\n",
    "    df = pd.read_csv(path, converters={column: json.loads for column in json_columns}, dtype={'fullVisitorId': 'str'}, nrows=nrows, usecols=columns)\n",
    "    for column in json_columns:\n",
    "        column_as_df = json_normalize(df[column])\n",
    "        column_as_df.columns = [f\"{column}.{subcolumn}\" for subcolumn in column_as_df.columns]\n",
    "        df = df.drop(column,axis=1).merge(column_as_df,right_index = True , left_index = True)\t\n",
    " #print(f\"Loaded {os.path.basename(path)}.Shape: {df.shape}\")\n",
    "    return df\n",
    "train = load_df(\"train.csv\")\n",
    "test = load_df(\"test.csv\")"
   ]
  }
 ],
 "metadata": {
  "kernelspec": {
   "display_name": "Python 3",
   "language": "python",
   "name": "python3"
  },
  "language_info": {
   "codemirror_mode": {
    "name": "ipython",
    "version": 3
   },
   "file_extension": ".py",
   "mimetype": "text/x-python",
   "name": "python",
   "nbconvert_exporter": "python",
   "pygments_lexer": "ipython3",
   "version": "3.7.1"
  }
 },
 "nbformat": 4,
 "nbformat_minor": 2
}
